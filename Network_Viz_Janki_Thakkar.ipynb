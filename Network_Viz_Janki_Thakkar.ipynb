{
 "cells": [
  {
   "cell_type": "code",
   "execution_count": 1,
   "metadata": {},
   "outputs": [],
   "source": [
    "import json\n",
    "import bqplot\n",
    "import ipywidgets"
   ]
  },
  {
   "cell_type": "code",
   "execution_count": 2,
   "metadata": {},
   "outputs": [],
   "source": [
    "films = json.load(open(\"shared/sp18-is590dv/data/star_wars/films.json\"))\n",
    "char_input = json.load(open(\"shared/sp18-is590dv/data/star_wars/people.json\"))\n",
    "characters = {}\n",
    "for character in char_input:\n",
    "    characters[character['pk']] = character['fields']"
   ]
  },
  {
   "cell_type": "code",
   "execution_count": 3,
   "metadata": {},
   "outputs": [],
   "source": [
    "chars = [\"Boba Fett\", \"Yoda\", \"Jabba Desilijic Tiure\", \"Darth Vader\", \"Obi-Wan Kenobi\",\n",
    "         \"Beru Whitesun lars\", \"Mon Mothma\"]"
   ]
  },
  {
   "cell_type": "code",
   "execution_count": 4,
   "metadata": {},
   "outputs": [],
   "source": [
    "ids = []\n",
    "for char in chars:\n",
    "    label = char\n",
    "    for character in characters:\n",
    "        if characters[character][\"name\"] == char:\n",
    "            ids.append(character)"
   ]
  },
  {
   "cell_type": "code",
   "execution_count": 5,
   "metadata": {},
   "outputs": [],
   "source": [
    "node_data = []\n",
    "for id in ids:\n",
    "    label = characters[id][\"name\"]\n",
    "    media = []\n",
    "    charac = []\n",
    "    for film in films:\n",
    "        film_chars = film[\"fields\"][\"characters\"]\n",
    "        if id in film[\"fields\"][\"characters\"]:\n",
    "            media.append(film[\"fields\"][\"title\"])\n",
    "    node_data.append({'label': label,'media':media})"
   ]
  },
  {
   "cell_type": "code",
   "execution_count": 6,
   "metadata": {},
   "outputs": [
    {
     "data": {
      "application/vnd.jupyter.widget-view+json": {
       "model_id": "84b4e4c5db3444c4a33686d498866fa4",
       "version_major": 2,
       "version_minor": 0
      },
      "text/plain": [
       "VBox(children=(Figure(fig_margin={'top': 60, 'bottom': 60, 'left': 60, 'right': 60}, layout=Layout(min_width='…"
      ]
     },
     "metadata": {},
     "output_type": "display_data"
    }
   ],
   "source": [
    "link_data = []\n",
    "for film in films:\n",
    "    film_chars = film[\"fields\"][\"characters\"]\n",
    "    for character1 in film_chars:\n",
    "        if character1 not in ids: \n",
    "            continue\n",
    "        for character2 in film_chars:\n",
    "            if character2 not in ids: \n",
    "                continue\n",
    "            link_data.append({'source' : ids.index(character1),'target' : ids.index(character2)})\n",
    "tooltip = bqplot.Tooltip(fields = [\"label\", \"media\"])\n",
    "graph = bqplot.Graph(node_data = node_data, link_data = link_data, charge = -100, link_distance = 150, tooltip=tooltip)\n",
    "fig = bqplot.Figure(marks = [graph])\n",
    "##display(fig)\n",
    "\n",
    "\n",
    "label_charac = ipywidgets.Label()\n",
    "label_movie = ipywidgets.Label()\n",
    "def say_hello(obj,element):\n",
    "    label_charac.value = \"Character Name: \" + element['data']['label']\n",
    "    label_movie.value = \"Movies worked in: \" + str(element['data']['media'])\n",
    "lables = ipywidgets.VBox([label_charac, label_movie])\n",
    "final = ipywidgets.VBox([fig, lables])\n",
    "graph.on_element_click(say_hello)\n",
    "\n",
    "display(final)"
   ]
  }
 ],
 "metadata": {
  "kernelspec": {
   "display_name": "Environment (conda_conda)",
   "language": "python",
   "name": "conda_conda"
  },
  "language_info": {
   "codemirror_mode": {
    "name": "ipython",
    "version": 3
   },
   "file_extension": ".py",
   "mimetype": "text/x-python",
   "name": "python",
   "nbconvert_exporter": "python",
   "pygments_lexer": "ipython3",
   "version": "3.6.6"
  }
 },
 "nbformat": 4,
 "nbformat_minor": 2
}
